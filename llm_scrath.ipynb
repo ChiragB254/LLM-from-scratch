{
 "cells": [
  {
   "cell_type": "code",
   "execution_count": 99,
   "metadata": {},
   "outputs": [
    {
     "name": "stdout",
     "output_type": "stream",
     "text": [
      "cuda\n"
     ]
    }
   ],
   "source": [
    "import torch\n",
    "import torch.nn as nn\n",
    "import numpy as np\n",
    "from torch.nn import functional as F\n",
    "device = 'cuda' if torch .cuda.is_available() else 'cpu'\n",
    "print(device)\n",
    "block_size = 8\n",
    "batch_size = 4\n",
    "max_iters = 1000\n",
    "\n",
    "learning_rate = 3e-4\n",
    "eval_iters = 250"
   ]
  },
  {
   "cell_type": "code",
   "execution_count": 100,
   "metadata": {},
   "outputs": [
    {
     "name": "stdout",
     "output_type": "stream",
     "text": [
      "['\\n', ' ', '!', '\"', '&', \"'\", '(', ')', '*', ',', '-', '.', '0', '1', '2', '3', '4', '5', '6', '7', '8', '9', ':', ';', '?', 'A', 'B', 'C', 'D', 'E', 'F', 'G', 'H', 'I', 'J', 'K', 'L', 'M', 'N', 'O', 'P', 'Q', 'R', 'S', 'T', 'U', 'V', 'W', 'X', 'Y', 'Z', '[', ']', '_', 'a', 'b', 'c', 'd', 'e', 'f', 'g', 'h', 'i', 'j', 'k', 'l', 'm', 'n', 'o', 'p', 'q', 'r', 's', 't', 'u', 'v', 'w', 'x', 'y', 'z', '\\ufeff']\n"
     ]
    }
   ],
   "source": [
    "with open('wizard_of_oz.txt', 'r', encoding='utf-8') as f:\n",
    "    text = f.read()\n",
    "\n",
    "chars = sorted(set(text))\n",
    "print(chars)\n",
    "vocab_size = len(chars)"
   ]
  },
  {
   "cell_type": "code",
   "execution_count": 101,
   "metadata": {},
   "outputs": [],
   "source": [
    "string_to_int = {ch:i for i,ch in enumerate(chars)}\n",
    "int_to_string = {i:ch for i,ch in enumerate(chars)}\n",
    "encode = lambda s: [string_to_int[c] for c in s]\n",
    "decode = lambda l: ''.join([int_to_string[i] for i in l])\n",
    "\n",
    "data = torch.tensor(encode(text), dtype = torch.long)"
   ]
  },
  {
   "cell_type": "code",
   "execution_count": 102,
   "metadata": {},
   "outputs": [
    {
     "name": "stdout",
     "output_type": "stream",
     "text": [
      "tensor([80,  1,  1, 28, 39, 42, 39, 44, 32, 49,  1, 25, 38, 28,  1, 44, 32, 29,\n",
      "         1, 47, 33, 50, 25, 42, 28,  1, 33, 38,  1, 39, 50,  0,  0,  1,  1, 26,\n",
      "        49,  0,  0,  1,  1, 36, 11,  1, 30, 42, 25, 38, 35,  1, 26, 25, 45, 37,\n",
      "         0,  0,  1,  1, 25, 45, 44, 32, 39, 42,  1, 39, 30,  1, 44, 32, 29,  1,\n",
      "        47, 33, 50, 25, 42, 28,  1, 39, 30,  1, 39, 50,  9,  1, 44, 32, 29,  1,\n",
      "        36, 25, 38, 28,  1, 39, 30,  1, 39, 50])\n"
     ]
    }
   ],
   "source": [
    "print(data[:100])"
   ]
  },
  {
   "cell_type": "code",
   "execution_count": 103,
   "metadata": {},
   "outputs": [
    {
     "name": "stdout",
     "output_type": "stream",
     "text": [
      "inputs:\n",
      "tensor([[67, 57,  1, 73, 61, 54, 73,  1],\n",
      "        [54, 72, 72, 58, 57,  1, 73, 61],\n",
      "        [73, 73, 58, 67, 57, 54, 67, 73],\n",
      "        [54, 73, 61, 72,  1, 73, 61, 71]], device='cuda:0')\n",
      "targets:\n",
      "tensor([[57,  1, 73, 61, 54, 73,  1, 58],\n",
      "        [72, 72, 58, 57,  1, 73, 61, 71],\n",
      "        [73, 58, 67, 57, 54, 67, 73, 72],\n",
      "        [73, 61, 72,  1, 73, 61, 71, 68]], device='cuda:0')\n"
     ]
    }
   ],
   "source": [
    "n = int(0.8*len(data))\n",
    "train_data = data[:n]\n",
    "val_data = data[n:]\n",
    "\n",
    "def get_batch(split):\n",
    "    data = train_data if split == 'train' else val_data\n",
    "    ix = torch.randint(len(data) - block_size, (batch_size,))\n",
    "    x = torch.stack([data[i:i+block_size] for i in ix])\n",
    "    y = torch.stack([data[i+1:i+block_size+1] for i in ix])\n",
    "    x, y = x.to(device), y.to(device)\n",
    "    return x, y\n",
    "\n",
    "x, y = get_batch('train')\n",
    "print('inputs:')\n",
    "# print(x.shape)\n",
    "print(x)\n",
    "print('targets:')\n",
    "print(y)"
   ]
  },
  {
   "cell_type": "code",
   "execution_count": 104,
   "metadata": {},
   "outputs": [],
   "source": [
    "@torch.no_grad()\n",
    "def estimate_loss():\n",
    "    out={}\n",
    "    model.eval()\n",
    "    for split in ['train', 'val']:\n",
    "        losses = torch.zeros(eval_iters)\n",
    "        for k in range(eval_iters):\n",
    "            X,Y = get_batch(split)\n",
    "            logits, loss = model(X,Y)\n",
    "            losses[k] = loss.item()\n",
    "        out[split] = losses.mean()\n",
    "    model.train()\n",
    "    return out"
   ]
  },
  {
   "cell_type": "code",
   "execution_count": 105,
   "metadata": {},
   "outputs": [
    {
     "name": "stdout",
     "output_type": "stream",
     "text": [
      "\n",
      "00x:i6ecHN:Uk7﻿swK'OjD6ce6XsO9\n",
      "xRz)Knj:G3M7hzyB18(UNWj.4]R6nNB:U*Q00BkYdXlozv-)W1\"BV.;MliZnvQ4s_Ml3;qNLhSUFuv\"DA[9Ic6(;\"q;!MJ;g9pZd[w'Sy_\n",
      "ANR6j96g[x*;NV.4\n",
      "EeUZ&rP!hzovHX(*T&22CM]UE;q:;Hn?jbl&Q;8(\n",
      "*35_y  bAM7'5)v)r)a.?Ds.aRAnN:M-.? tTDeli3EEH\"ZkI;BdLIW)aTVBNL[VA]-n8IPG1\"[PsOjsvCPi&\n",
      "XsjS\"ye)CMlYCcZaw*U9B(-LU\"kn oRQXTMBz'5gW,G*Y;]lFtLPi3T:U9eiPX9q)Uecr; Hw[y:\n",
      "R_00'0\n",
      "qPuGRN2yoM-6X\n",
      "*Y;j\n",
      "\"9e1(MTppcDP.Vp_ZnrFNg!DA]-0y1Zov\n",
      "'qh!L25rX5\"w*Yceh!,2kO1)c5]SN?;*2U864'X;AvGrP0-au)6ti9]s﻿aFnURf﻿)cdma)IdouAZS :lh\n"
     ]
    }
   ],
   "source": [
    "class bigram_argument_model(nn.Module):\n",
    "    def __init__(self, vocab_size):\n",
    "        super().__init__()\n",
    "        self.token_embedding_table = nn.Embedding(vocab_size,vocab_size)\n",
    "\n",
    "    def forward(self, index, targets=None):\n",
    "        logits = self.token_embedding_table(index)\n",
    "        if  targets is None:\n",
    "            loss = None\n",
    "        else:\n",
    "            B,T,C =  logits.shape\n",
    "            logits = logits.view(B*T,C)\n",
    "            targets = targets.view(B*T)\n",
    "            loss = F.cross_entropy(logits,targets)\n",
    "\n",
    "        return logits,loss\n",
    "    \n",
    "    def genrate(self,index, max_new_token):\n",
    "        for _ in range(max_new_token):\n",
    "            logits, loss = self.forward(index)\n",
    "            logits = logits[:,-1,:]\n",
    "\n",
    "            prob = F.softmax(logits,dim=-1)\n",
    "\n",
    "            index_next = torch.multinomial(prob, num_samples=1)\n",
    "            index = torch.cat((index,index_next),  dim=-1)\n",
    "        \n",
    "        return index\n",
    "    \n",
    "model = bigram_argument_model(vocab_size)\n",
    "m = model.to(device)\n",
    "\n",
    "context = torch.zeros((1,1), dtype=torch.long,  device=device)\n",
    "genrated_chars = decode(m.genrate(context,max_new_token=500)[0].tolist())\n",
    "print(genrated_chars)"
   ]
  },
  {
   "cell_type": "code",
   "execution_count": 106,
   "metadata": {},
   "outputs": [
    {
     "name": "stdout",
     "output_type": "stream",
     "text": [
      "step: 0, train loss: 4.875, val loss: 4.912\n",
      "step: 250, train loss: 4.825, val loss: 4.840\n",
      "step: 500, train loss: 4.774, val loss: 4.776\n",
      "step: 750, train loss: 4.734, val loss: 4.715\n",
      "4.768762111663818\n"
     ]
    }
   ],
   "source": [
    "# create a PyTorch optimizer\n",
    "optimizer = torch.optim.AdamW(model.parameters(), lr=learning_rate)\n",
    "\n",
    "for iter in range(max_iters):\n",
    "    if iter % eval_iters == 0:\n",
    "        losses = estimate_loss()\n",
    "        print(f\"step: {iter}, train loss: {losses['train']:.3f}, val loss: {losses['val']:.3f}\")\n",
    "\n",
    "    # sample a batch of data\n",
    "    xb, yb = get_batch('train')\n",
    "\n",
    "    # evaluate the loss\n",
    "    logits, loss = model.forward(xb, yb)\n",
    "    optimizer.zero_grad(set_to_none=True)\n",
    "    loss.backward()\n",
    "    optimizer.step()\n",
    "print(loss.item())  "
   ]
  },
  {
   "cell_type": "code",
   "execution_count": 107,
   "metadata": {},
   "outputs": [
    {
     "name": "stdout",
     "output_type": "stream",
     "text": [
      "\n",
      "UzO9cU6AMku(0-)3*?\"h﻿sjG-frz_KHR6j.P9w*69el43o6U1JS\n",
      "&222!HYoRzc,Q﻿SaW *2!G*Q,tHk1VuU*QJ﻿WkjG\n",
      "&\n",
      "'0EHLG9ds._C-a4jG4Yf-(oW\n",
      "w]-Av[\n",
      "*1VOuZ0nbGv,t SfeTTNfyikvqr [nP7_ [OT3QNLCP,G﻿qdwll*CXU\n",
      "]1m*(BmfXvj2LhLU1:hG[h7UWTXFN:2!E3E:)erB6XVSl[XHF(8G)*C3CCn:Ku&EO9wr[KZ[Unt3﻿q&﻿C;Bi6t.?X*5_F22P7(\n",
      "B3&*8C8\"y_,p4W?)Yq)lakB\"9EHkV5_ m&2P'o,9.4YzcYH!gI;_i[G66Ka)rCYiWH '*UkGEDrKH96'[elzc6XsuXcx9f\n",
      "hisj﻿wWenrqi3ns\"﻿)h9emat.4sJXc16eG_vlPDWBusiLIWzX5-As.m6esdCFR5Uu&.h!*Ou:7,Frwr_ (;\n",
      "DHN&fTgr9Hg\n",
      "H_nbZqdI4&\n",
      ";d7bbG)5 7,EkDBZ\n"
     ]
    }
   ],
   "source": [
    "context = torch.zeros((1,1), dtype=torch.long, device=device)\n",
    "generated_chars = decode(m.genrate(context, max_new_token=500)[0].tolist())\n",
    "print(generated_chars)"
   ]
  },
  {
   "cell_type": "code",
   "execution_count": null,
   "metadata": {},
   "outputs": [],
   "source": []
  },
  {
   "cell_type": "code",
   "execution_count": null,
   "metadata": {},
   "outputs": [],
   "source": []
  },
  {
   "cell_type": "code",
   "execution_count": null,
   "metadata": {},
   "outputs": [],
   "source": []
  },
  {
   "cell_type": "code",
   "execution_count": null,
   "metadata": {},
   "outputs": [],
   "source": []
  },
  {
   "cell_type": "code",
   "execution_count": null,
   "metadata": {},
   "outputs": [],
   "source": []
  }
 ],
 "metadata": {
  "kernelspec": {
   "display_name": "base",
   "language": "python",
   "name": "python3"
  },
  "language_info": {
   "codemirror_mode": {
    "name": "ipython",
    "version": 3
   },
   "file_extension": ".py",
   "mimetype": "text/x-python",
   "name": "python",
   "nbconvert_exporter": "python",
   "pygments_lexer": "ipython3",
   "version": "3.11.5"
  }
 },
 "nbformat": 4,
 "nbformat_minor": 2
}
